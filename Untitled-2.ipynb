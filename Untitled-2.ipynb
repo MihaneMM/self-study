{
 "cells": [
  {
   "cell_type": "code",
   "execution_count": 4,
   "metadata": {},
   "outputs": [
    {
     "name": "stdout",
     "output_type": "stream",
     "text": [
      "256\n",
      "-17\n"
     ]
    }
   ],
   "source": [
    "numbers = [1, 3, 10, 7, 9, -17, 77, 33, 179, 256]\n",
    "print(max(numbers))\n",
    "print(min(numbers))"
   ]
  },
  {
   "cell_type": "code",
   "execution_count": 5,
   "metadata": {},
   "outputs": [
    {
     "name": "stdout",
     "output_type": "stream",
     "text": [
      "-17\n",
      "256\n"
     ]
    }
   ],
   "source": [
    "numbers = [1, 3, 10, 7, 9, -17, 77, 33, 179, 256]\n",
    "numbers.sort()\n",
    "print(numbers[0])\n",
    "print(numbers[-1])"
   ]
  },
  {
   "cell_type": "code",
   "execution_count": 6,
   "metadata": {},
   "outputs": [
    {
     "data": {
      "text/plain": [
       "[3, 9, 33]"
      ]
     },
     "execution_count": 6,
     "metadata": {},
     "output_type": "execute_result"
    }
   ],
   "source": [
    "numbers = [1, 3, 10, 7, 9, -17, 77, 33, 179, 256]\n",
    "numbers = [f for f in numbers if f%3 == 0 or f%9 == 0]\n",
    "numbers"
   ]
  },
  {
   "cell_type": "code",
   "execution_count": 7,
   "metadata": {},
   "outputs": [
    {
     "name": "stdout",
     "output_type": "stream",
     "text": [
      "3\n",
      "10\n",
      "9\n",
      "33\n"
     ]
    }
   ],
   "source": [
    "numbers = [1, 3, 10, 7, 9, -17, 77, 33, 179, 256]\n",
    "\n",
    "for x in numbers:\n",
    "    if x % 3 == 0 or x % 5 == 0:\n",
    "        print(x)"
   ]
  },
  {
   "cell_type": "code",
   "execution_count": 8,
   "metadata": {},
   "outputs": [
    {
     "data": {
      "text/plain": [
       "[10, 7, 77]"
      ]
     },
     "execution_count": 8,
     "metadata": {},
     "output_type": "execute_result"
    }
   ],
   "source": [
    "numbers = [1, 3, 10, 7, 9, -17, 77, 33, 179, 256]\n",
    "numbers = [i for i in numbers if i%5 == 0 or i%7 == 0]      \n",
    "numbers"
   ]
  },
  {
   "cell_type": "code",
   "execution_count": 9,
   "metadata": {},
   "outputs": [
    {
     "name": "stdout",
     "output_type": "stream",
     "text": [
      "[333, 256, 179, 77, 33, 10, 9, 7, 3, 1, -17]\n"
     ]
    }
   ],
   "source": [
    "numbers = [1, 3, 10, 7, 9, -17, 77, 33, 179, 256, 333]\n",
    "# как оптим это код, приходит уже отсортированный массив\n",
    "for bubble in range(len(numbers)): \n",
    "    for i in range(len(numbers)-1): \n",
    "        if numbers[i] < numbers[i+1]:\n",
    "            numbers[i], numbers[i+1] = numbers[i+1], numbers[i]\n",
    "print(numbers)"
   ]
  },
  {
   "cell_type": "code",
   "execution_count": 10,
   "metadata": {},
   "outputs": [
    {
     "data": {
      "text/plain": [
       "[256, 179, 33, 77, -17, 9, 7, 10, 3, 1]"
      ]
     },
     "execution_count": 10,
     "metadata": {},
     "output_type": "execute_result"
    }
   ],
   "source": [
    "numbers = [1, 3, 10, 7, 9, -17, 77, 33, 179, 256]\n",
    "numbers.reverse()\n",
    "numbers"
   ]
  },
  {
   "cell_type": "code",
   "execution_count": null,
   "metadata": {},
   "outputs": [],
   "source": [
    "rows = int(input('enter a number'))\n",
    "for x in range (rows):\n",
    "    print ('*' * (x + 1))\n"
   ]
  },
  {
   "cell_type": "code",
   "execution_count": 11,
   "metadata": {},
   "outputs": [
    {
     "name": "stdout",
     "output_type": "stream",
     "text": [
      "179\n",
      "256\n"
     ]
    }
   ],
   "source": [
    "numbers = [1, 3, 10, 7, 9, -17, 77, 33, 179, 256, 333]\n",
    "\n",
    "i=0 \n",
    "# решить математикой 256%10\n",
    "while i < len(numbers):\n",
    "\n",
    "    if len(str(abs(numbers[i]))) == 3:\n",
    "        \n",
    "        b = list(str(numbers[i]))\n",
    "        if b[0] != b[1] != b[2]:\n",
    "       \n",
    "            print(numbers[i])\n",
    "\n",
    "    i+=1\n",
    "                   "
   ]
  },
  {
   "cell_type": "code",
   "execution_count": null,
   "metadata": {},
   "outputs": [],
   "source": [
    "import random\n",
    "\n",
    "tries = 0 \n",
    "\n",
    "number = random.randint(1, 50)\n",
    "\n",
    "print ('Hmmm.... Try to what number 1 and 50 i was thinking about:)')\n",
    "\n",
    "while tries < 6:\n",
    "    gues = int(input('Take a guess'))\n",
    "\n",
    "    tries+=1\n",
    "\n",
    "    if gues < number:\n",
    "        print('Your gues is too low')\n",
    "    if gues > number:\n",
    "        print('Yuor gess is too high')\n",
    "    if gues == number:\n",
    "        print(f'Congratulations! You guessed my number in {tries} guesses')\n",
    "        break\n",
    "    if gues != number and tries == 6:\n",
    "        print(f\"Sorry, but you didn't make it. My number was:{number}\")\n",
    "        break \n"
   ]
  },
  {
   "cell_type": "code",
   "execution_count": null,
   "metadata": {},
   "outputs": [],
   "source": [
    "number = int(input('Entr a number'))\n",
    "\n",
    "reversed_number = 0\n",
    "tmp_original = number\n",
    "while tmp_original > 0:\n",
    "    reversed_number = (reversed_number * 10) + tmp_original % 10\n",
    "    tmp_original = tmp_original // 10\n",
    "    \n",
    "if number == reversed_number:\n",
    "    print ('Palindrome')\n",
    "else:\n",
    "    print('No Palindrome')"
   ]
  },
  {
   "cell_type": "code",
   "execution_count": 12,
   "metadata": {},
   "outputs": [
    {
     "ename": "TypeError",
     "evalue": "gcd expected 2 arguments, got 11",
     "output_type": "error",
     "traceback": [
      "\u001b[1;31m---------------------------------------------------------------------------\u001b[0m",
      "\u001b[1;31mTypeError\u001b[0m                                 Traceback (most recent call last)",
      "\u001b[1;32m<ipython-input-12-75d11ed2d08a>\u001b[0m in \u001b[0;36m<module>\u001b[1;34m\u001b[0m\n\u001b[0;32m      8\u001b[0m \u001b[1;33m\u001b[0m\u001b[0m\n\u001b[0;32m      9\u001b[0m \u001b[1;33m\u001b[0m\u001b[0m\n\u001b[1;32m---> 10\u001b[1;33m \u001b[0ma\u001b[0m \u001b[1;33m=\u001b[0m \u001b[0mmath\u001b[0m\u001b[1;33m.\u001b[0m\u001b[0mgcd\u001b[0m\u001b[1;33m(\u001b[0m\u001b[1;36m1\u001b[0m\u001b[1;33m,\u001b[0m \u001b[1;36m3\u001b[0m\u001b[1;33m,\u001b[0m \u001b[1;36m10\u001b[0m\u001b[1;33m,\u001b[0m \u001b[1;36m7\u001b[0m\u001b[1;33m,\u001b[0m \u001b[1;36m9\u001b[0m\u001b[1;33m,\u001b[0m \u001b[1;33m-\u001b[0m\u001b[1;36m17\u001b[0m\u001b[1;33m,\u001b[0m \u001b[1;36m77\u001b[0m\u001b[1;33m,\u001b[0m \u001b[1;36m33\u001b[0m\u001b[1;33m,\u001b[0m \u001b[1;36m179\u001b[0m\u001b[1;33m,\u001b[0m \u001b[1;36m256\u001b[0m\u001b[1;33m,\u001b[0m \u001b[1;36m333\u001b[0m\u001b[1;33m)\u001b[0m\u001b[1;33m\u001b[0m\u001b[1;33m\u001b[0m\u001b[0m\n\u001b[0m\u001b[0;32m     11\u001b[0m \u001b[0mb\u001b[0m \u001b[1;33m=\u001b[0m \u001b[0mmath\u001b[0m\u001b[1;33m.\u001b[0m\u001b[0mlcm\u001b[0m\u001b[1;33m(\u001b[0m\u001b[1;36m1\u001b[0m\u001b[1;33m,\u001b[0m \u001b[1;36m3\u001b[0m\u001b[1;33m,\u001b[0m \u001b[1;36m10\u001b[0m\u001b[1;33m,\u001b[0m \u001b[1;36m7\u001b[0m\u001b[1;33m,\u001b[0m \u001b[1;36m9\u001b[0m\u001b[1;33m,\u001b[0m \u001b[1;33m-\u001b[0m\u001b[1;36m17\u001b[0m\u001b[1;33m,\u001b[0m \u001b[1;36m77\u001b[0m\u001b[1;33m,\u001b[0m \u001b[1;36m33\u001b[0m\u001b[1;33m,\u001b[0m \u001b[1;36m179\u001b[0m\u001b[1;33m,\u001b[0m \u001b[1;36m256\u001b[0m\u001b[1;33m,\u001b[0m \u001b[1;36m333\u001b[0m\u001b[1;33m)\u001b[0m\u001b[1;33m\u001b[0m\u001b[1;33m\u001b[0m\u001b[0m\n\u001b[0;32m     12\u001b[0m \u001b[1;33m\u001b[0m\u001b[0m\n",
      "\u001b[1;31mTypeError\u001b[0m: gcd expected 2 arguments, got 11"
     ]
    }
   ],
   "source": [
    "import math\n",
    "\n",
    "numbers = [1, 3, 10, 7, 9, -17, 77, 33, 179, 256, 333]\n",
    "\n",
    "for el in numbers:\n",
    "    el = int(el)\n",
    "    \n",
    "\n",
    "\n",
    "a = math.gcd(1, 3, 10, 7, 9, -17, 77, 33, 179, 256, 333)\n",
    "b = math.lcm(1, 3, 10, 7, 9, -17, 77, 33, 179, 256, 333)\n",
    "\n",
    "print(a)\n",
    "print(b)"
   ]
  },
  {
   "cell_type": "code",
   "execution_count": null,
   "metadata": {},
   "outputs": [
    {
     "name": "stdout",
     "output_type": "stream",
     "text": [
      "1 2 3 4 5 \n",
      "16 17 18 19 6 \n",
      "15 24 25 20 7 \n",
      "14 23 22 21 8 \n",
      "13 12 11 10 9 \n"
     ]
    }
   ],
   "source": [
    "n = int(input())  # размер матрицы\n",
    "a = [[0] * n for i in range(n)]  # создание матрицы нужного размера, заполнена 0\n",
    "count = 0  # количество заполненных ячеек  \n",
    "for i in range(n):   # заполнение 1 строки\n",
    "    count += 1\n",
    "    a[0][i] = count\n",
    "j = 0   # указываем последнюю заполненную ячейку\n",
    "i = n-1\n",
    "n -= 1  # устанавливаем размер 1 блока 1 витка\n",
    "while len(a)**2 != count:  #условие выхода из цикла\n",
    "    for k in range(n):  #движение вниз\n",
    "        j += 1\n",
    "        count += 1\n",
    "        a[j][i] = count  # заполнение матрицы\n",
    "    for k in range(n):  #движение влево\n",
    "        i -= 1\n",
    "        count += 1\n",
    "        a[j][i] = count   \n",
    "    for k in range(n-1):  #движение вверх\n",
    "        j -= 1\n",
    "        count += 1\n",
    "        a[j][i] = count\n",
    "    for k in range(n-1): #движение вправо\n",
    "        i += 1\n",
    "        count += 1\n",
    "        a[j][i] = count\n",
    "    n -= 2    # обеспечиваем переход на внутренний виток\n",
    "for i in range(len(a)):  #вывод полученной матрицы\n",
    "    for j in range(len(a[i])):\n",
    "        print(a[i][j], end=' ')\n",
    "    print()"
   ]
  },
  {
   "cell_type": "code",
   "execution_count": 17,
   "metadata": {},
   "outputs": [],
   "source": [
    "matrix = [[1, 2, 3, 4, 5], [6, 7, 8, 9, 10], [11, 12, 13, 14, 15], [16, 17, 18, 19, 20], [21, 22, 23, 14, 25]]\n"
   ]
  },
  {
   "cell_type": "code",
   "execution_count": 16,
   "metadata": {},
   "outputs": [],
   "source": [
    "matrix = [[-12, 45, -4, -6, 30], [28, 27, 20, -19, 18], [13, 46, 21, 44, -8], [37, 11, 17, -5, -2], [-1, 7, 18, 50, 50]]\n"
   ]
  },
  {
   "cell_type": "code",
   "execution_count": 39,
   "metadata": {},
   "outputs": [
    {
     "data": {
      "text/plain": [
       "45"
      ]
     },
     "execution_count": 39,
     "metadata": {},
     "output_type": "execute_result"
    }
   ],
   "source": [
    "matrix = [[-12, 45, -4, -6, 30], [28, 27, 20, -19, 18], [13, 46, 21, 44, -8], [37, 11, 17, -5, -2], [-1, 7, 18, 50, 50]]\n",
    "\n",
    "def max_number(matrix): # нахожу максимальный номер\n",
    "    max_number=0\n",
    "    for i in range(len(matrix)-1):\n",
    "        for j in range(len(matrix[i])):\n",
    "            if matrix[i][j] > max_number:\n",
    "                max_number = matrix[i][j]  \n",
    "        return max_number\n",
    "\n",
    "max_number = max_number(matrix)\n",
    "max_number"
   ]
  },
  {
   "cell_type": "code",
   "execution_count": 38,
   "metadata": {},
   "outputs": [
    {
     "name": "stdout",
     "output_type": "stream",
     "text": [
      "max_number 40\n",
      "rows [0, 1, 3]\n",
      "columns [8, 7, 1]\n",
      "[ 50 -12  12  28  -8   3  47]\n",
      "[ 22 -10  15 -12  18 -17  -2]\n",
      "[15 31 12 -7 31 28 27]\n",
      "[25 25 23 42 -8 23 35]\n",
      "[ 41  41 -15  29   1  -5  23]\n",
      "[17 25 46 48 30 13 -7]\n",
      "[ 19  47 -10  39  10   7 -15]\n"
     ]
    }
   ],
   "source": [
    "def matrix_size():\n",
    "    rows=int(input('Enter number of rows '))\n",
    "    columns=int(input('Enter number of columns '))\n",
    "    return rows, columns\n",
    "\n",
    "def matrix(rows, columns):\n",
    "    import random\n",
    "    matrix =[]\n",
    "\n",
    "    for i in range(rows):\n",
    "        one_str =[] # создаю список списков (матрицу)\n",
    "        for j in range(columns):\n",
    "            one_str.append(random.randint(-20, 50))\n",
    "        matrix.append(one_str)\n",
    "    return matrix\n",
    "\n",
    "def max_number(matrix): # нахожу максимальный номер\n",
    "    max_number=0\n",
    "    for i in range(len(matrix)-1):\n",
    "        for j in range(len(matrix[i])):\n",
    "            if matrix[i][j] > max_number:\n",
    "                max_number = matrix[i][j]  \n",
    "        return max_number\n",
    "\n",
    "def index_max_number(matrix, max_number):\n",
    "\n",
    "    rows=[] # в каких строках и столбцах макс номер\n",
    "    columns=[]\n",
    "    for g in range(len(matrix)):\n",
    "        for t in range(len(matrix[g])):\n",
    "            if matrix[g][t] == max_number:\n",
    "                rows.append(g)\n",
    "                columns.append(t)\n",
    "\n",
    "    return rows, columns\n",
    "    \n",
    "\n",
    "rows, columns = matrix_size()\n",
    "matrix= matrix(rows, columns)\n",
    "max_number= max_number(matrix)\n",
    "print(f'max_number {max_number}')\n",
    "\n",
    "rows, columns = index_max_number(matrix, max_number)\n",
    "print(f'rows {rows}')\n",
    "print(f'columns {columns}')\n",
    "\n",
    "for index in sorted(rows, reverse=True):\n",
    "    del matrix[index]\n",
    "\n",
    "for t in matrix:\n",
    "    t=np.delete(t, columns)\n",
    "    print(t)    \n",
    "    "
   ]
  },
  {
   "cell_type": "code",
   "execution_count": 1,
   "metadata": {},
   "outputs": [
    {
     "data": {
      "text/plain": [
       "45"
      ]
     },
     "execution_count": 1,
     "metadata": {},
     "output_type": "execute_result"
    }
   ],
   "source": [
    "matrix = [[12, 45, -4, -6, 30], [28, 27, 50, -19, 18], [13, 46, 20, 44, -8], [37, 11, 17, -5, -2], [-1, 7, 18, 49, 50]]\n",
    "\n",
    "def max_number(matrix): # нахожу максимальный номер\n",
    "    max_number=0\n",
    "    for i in range(len(matrix)-1):\n",
    "        for j in range(len(matrix[i])):\n",
    "            if matrix[i][j] > max_number:\n",
    "                max_number = matrix[i][j]  \n",
    "        return max_number\n",
    "\n",
    "max_number = max_number(matrix)\n",
    "max_number"
   ]
  }
 ],
 "metadata": {
  "interpreter": {
   "hash": "513dc2e41d739bb2c947903f3c0bbf636d03aa53ab50e61c694a27481c81805e"
  },
  "kernelspec": {
   "display_name": "Python 3.8.5 64-bit ('base': conda)",
   "name": "python3"
  },
  "language_info": {
   "codemirror_mode": {
    "name": "ipython",
    "version": 3
   },
   "file_extension": ".py",
   "mimetype": "text/x-python",
   "name": "python",
   "nbconvert_exporter": "python",
   "pygments_lexer": "ipython3",
   "version": "3.8.5"
  },
  "orig_nbformat": 4
 },
 "nbformat": 4,
 "nbformat_minor": 2
}
